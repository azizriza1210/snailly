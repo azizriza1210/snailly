{
 "cells": [
  {
   "attachments": {},
   "cell_type": "markdown",
   "metadata": {},
   "source": [
    "# <h3><b>Selenium"
   ]
  },
  {
   "cell_type": "code",
   "execution_count": 1,
   "metadata": {},
   "outputs": [],
   "source": [
    "from selenium import webdriver\n",
    "from selenium.webdriver.chrome.options import Options\n",
    "from bs4 import BeautifulSoup\n",
    "import time\n",
    "import os\n",
    "import requests\n",
    "import pandas as pd\n",
    "from selenium.webdriver.common.by import By"
   ]
  },
  {
   "cell_type": "code",
   "execution_count": 2,
   "metadata": {},
   "outputs": [],
   "source": [
    "# BUKA CHROME\n",
    "chrome_options = Options()\n",
    "chrome_options.add_argument('--no-sandbox')\n",
    "chrome_options.add_argument('--disable-dev-shm-usage')\n",
    "chrome_options.add_argument('--disable-gpu')\n",
    "\n",
    "driver = webdriver.Chrome(options=chrome_options)"
   ]
  },
  {
   "cell_type": "code",
   "execution_count": 3,
   "metadata": {},
   "outputs": [],
   "source": [
    "import re\n",
    "\n",
    "# Fungsi untuk menghapus pengulangan kata\n",
    "def remove_duplicate_words(text):\n",
    "    words = text.split()\n",
    "    unique_words = []\n",
    "    for word in words:\n",
    "        if word not in unique_words:\n",
    "            unique_words.append(word)\n",
    "    return ' '.join(unique_words)\n",
    "\n",
    "def add_spasi(text):\n",
    "    hasil = re.sub(r'(?<=[a-z])([A-Z])', r' \\1', text)\n",
    "    return hasil "
   ]
  },
  {
   "cell_type": "code",
   "execution_count": 8,
   "metadata": {},
   "outputs": [
    {
     "name": "stdout",
     "output_type": "stream",
     "text": [
      "Kata kunci pencarian: apa itu bunga\n"
     ]
    }
   ],
   "source": [
    "from urllib.parse import urlparse, parse_qs\n",
    "\n",
    "# URL pencarian Google\n",
    "google_search_url = \"https://www.google.com/search?q=apa+itu+bunga&sca_esv=580120143&sxsrf=AM9HkKn0l1IavsBkr2TtW4JiIcjpr8jLWg%3A1699360826939&source=hp&ei=OjBKZe6ONISk2roP_suPuA8&iflsig=AO6bgOgAAAAAZUo-Sl-sCUBSJrINCRt73jH-2nuIuMX3&ved=0ahUKEwjuk7iz9LGCAxUEklYBHf7lA_cQ4dUDCAo&uact=5&oq=apa+itu+bunga&gs_lp=Egdnd3Mtd2l6Ig1hcGEgaXR1IGJ1bmdhMggQABjLARiABDIIEAAYywEYgAQyCBAAGMsBGIAEMggQABjLARiABDIIEAAYywEYgAQyCBAAGMsBGIAEMggQABjLARiABDIIEAAYywEYgAQyCBAAGMsBGIAEMggQABjLARiABEjSFlDGA1jPEHABeACQAQCYAaUEoAGgGaoBCTItMi4xLjMuMrgBA8gBAPgBAagCCsICBxAjGOoCGCfCAgcQIxiKBRgn&sclient=gws-wiz\"\n",
    "\n",
    "# Menganalisis URL\n",
    "parsed_url = urlparse(google_search_url)\n",
    "\n",
    "# Mengambil parameter pencarian \"q\" dari URL\n",
    "query_params = parse_qs(parsed_url.query)\n",
    "\n",
    "# Cetak kata kunci pencarian\n",
    "if 'q' in query_params:\n",
    "    search_query = query_params['q'][0]\n",
    "    print(\"Kata kunci pencarian:\", search_query)\n",
    "else:\n",
    "    print(\"Kata kunci pencarian tidak ditemukan dalam URL.\")\n"
   ]
  },
  {
   "cell_type": "code",
   "execution_count": 11,
   "metadata": {},
   "outputs": [
    {
     "ename": "NameError",
     "evalue": "name 'kalimat' is not defined",
     "output_type": "error",
     "traceback": [
      "\u001b[1;31m---------------------------------------------------------------------------\u001b[0m",
      "\u001b[1;31mNameError\u001b[0m                                 Traceback (most recent call last)",
      "Cell \u001b[1;32mIn[11], line 33\u001b[0m\n\u001b[0;32m     22\u001b[0m     element_input\u001b[39m.\u001b[39msend_keys(Keys\u001b[39m.\u001b[39mRETURN)\n\u001b[0;32m     24\u001b[0m     \u001b[39m# Printing the whole body text\u001b[39;00m\n\u001b[0;32m     25\u001b[0m     \u001b[39m# element_signIn = driver.find_element(By.XPATH, \"//span[@class='recaptcha-checkbox goog-inline-block recaptcha-checkbox-unchecked rc-anchor-checkbox']\")\u001b[39;00m\n\u001b[0;32m     26\u001b[0m     \u001b[39m# element_signIn.click() \u001b[39;00m\n\u001b[1;32m   (...)\u001b[0m\n\u001b[0;32m     30\u001b[0m     \u001b[39m# kalimat = add_spasi(teks)\u001b[39;00m\n\u001b[0;32m     31\u001b[0m     \u001b[39m# kalimat = remove_duplicate_words(kalimat.lower())\u001b[39;00m\n\u001b[1;32m---> 33\u001b[0m     \u001b[39mprint\u001b[39m(kalimat)\n\u001b[0;32m     34\u001b[0m \u001b[39melse\u001b[39;00m:\n\u001b[0;32m     35\u001b[0m     \u001b[39mprint\u001b[39m(\u001b[39m\"\u001b[39m\u001b[39mKata kunci pencarian tidak ditemukan dalam URL.\u001b[39m\u001b[39m\"\u001b[39m)\n",
      "\u001b[1;31mNameError\u001b[0m: name 'kalimat' is not defined"
     ]
    }
   ],
   "source": [
    "from selenium_recaptcha import Recaptcha_Solver\n",
    "from selenium.webdriver.common.keys import Keys\n",
    "\n",
    "# URL pencarian Google\n",
    "google_search_url = \"https://duckduckgo.com/?va=q&t=he&q=memek+pink&ia=web\"\n",
    "\n",
    "# Menganalisis URL\n",
    "parsed_url = urlparse(google_search_url)\n",
    "\n",
    "# Mengambil parameter pencarian \"q\" dari URL\n",
    "query_params = parse_qs(parsed_url.query)\n",
    "\n",
    "# Cetak kata kunci pencarian\n",
    "if 'q' in query_params:\n",
    "    search_query = query_params['q'][0]\n",
    "    \n",
    "    driver.get(\"https://www.google.com/\")\n",
    "    time.sleep(2)\n",
    "    \n",
    "    element_input = driver.find_element(By.XPATH, \"//textarea[@type='search']\")\n",
    "    element_input.send_keys(search_query)\n",
    "    element_input.send_keys(Keys.RETURN)\n",
    "\n",
    "    # Printing the whole body text\n",
    "    # element_signIn = driver.find_element(By.XPATH, \"//span[@class='recaptcha-checkbox goog-inline-block recaptcha-checkbox-unchecked rc-anchor-checkbox']\")\n",
    "    # element_signIn.click() \n",
    "    # teks = driver.find_element(By.XPATH, \"/html/body\").text\n",
    "\n",
    "    # # clean dikit\n",
    "    # kalimat = add_spasi(teks)\n",
    "    # kalimat = remove_duplicate_words(kalimat.lower())\n",
    "\n",
    "    print(kalimat)\n",
    "else:\n",
    "    print(\"Kata kunci pencarian tidak ditemukan dalam URL.\")"
   ]
  },
  {
   "cell_type": "code",
   "execution_count": 23,
   "metadata": {},
   "outputs": [
    {
     "ename": "SSLError",
     "evalue": "HTTPSConnectionPool(host='www.google.com', port=443): Max retries exceeded with url: /search?q=meme&sca_esv=579719297&rlz=1C1GCEA_enID1040ID1040&sxsrf=AM9HkKloOBgtTADUCBy2lLf5qVvyvYyKOg%3A1699249403661&ei=-3xIZYyEKPCN4-EPvpuJoAo&ved=0ahUKEwjM7duo1a6CAxXwxjgGHb5NAqQQ4dUDCBA&uact=5&oq=meme&gs_lp=Egxnd3Mtd2l6LXNlcnAiBG1lbWUyBBAjGCcyCxAAGIoFGLEDGJECMg0QABiKBRixAxiDARhDMgsQABiABBixAxiDATIIEAAYgAQYsQMyCBAAGIAEGLEDMggQLhiABBixAzIFEAAYgAQyCBAAGIAEGLEDMgUQABiABEiDE1DRAljrCHACeAGQAQCYAYsBoAH8A6oBAzAuNLgBA8gBAPgBAagCFMICChAAGEcY1gQYsAPCAgoQABiKBRiwAxhDwgIHECMY6gIYJ8ICFhAAGAMYjwEY5QIY6gIYtAIYjAPYAQHCAhYQLhgDGI8BGOUCGOoCGLQCGIwD2AEBwgIOEAAYigUYsQMYgwEYkQLCAggQLhiKBRiRAsICCxAAGIoFGLEDGIMBwgILEC4YgAQYsQMYgwHCAgUQLhiABMICBxAjGIoFGCfCAggQABiKBRiRAuIDBBgAIEGIBgGQBgq6BgYIARABGAs&sclient=gws-wiz-serp (Caused by SSLError(SSLEOFError(8, 'EOF occurred in violation of protocol (_ssl.c:997)')))",
     "output_type": "error",
     "traceback": [
      "\u001b[1;31m---------------------------------------------------------------------------\u001b[0m",
      "\u001b[1;31mSSLEOFError\u001b[0m                               Traceback (most recent call last)",
      "File \u001b[1;32mc:\\Program Files\\Python310\\lib\\site-packages\\urllib3\\connectionpool.py:700\u001b[0m, in \u001b[0;36mHTTPConnectionPool.urlopen\u001b[1;34m(self, method, url, body, headers, retries, redirect, assert_same_host, timeout, pool_timeout, release_conn, chunked, body_pos, **response_kw)\u001b[0m\n\u001b[0;32m    699\u001b[0m \u001b[39mif\u001b[39;00m is_new_proxy_conn \u001b[39mand\u001b[39;00m http_tunnel_required:\n\u001b[1;32m--> 700\u001b[0m     \u001b[39mself\u001b[39;49m\u001b[39m.\u001b[39;49m_prepare_proxy(conn)\n\u001b[0;32m    702\u001b[0m \u001b[39m# Make the request on the httplib connection object.\u001b[39;00m\n",
      "File \u001b[1;32mc:\\Program Files\\Python310\\lib\\site-packages\\urllib3\\connectionpool.py:996\u001b[0m, in \u001b[0;36mHTTPSConnectionPool._prepare_proxy\u001b[1;34m(self, conn)\u001b[0m\n\u001b[0;32m    994\u001b[0m     conn\u001b[39m.\u001b[39mtls_in_tls_required \u001b[39m=\u001b[39m \u001b[39mTrue\u001b[39;00m\n\u001b[1;32m--> 996\u001b[0m conn\u001b[39m.\u001b[39;49mconnect()\n",
      "File \u001b[1;32mc:\\Program Files\\Python310\\lib\\site-packages\\urllib3\\connection.py:414\u001b[0m, in \u001b[0;36mHTTPSConnection.connect\u001b[1;34m(self)\u001b[0m\n\u001b[0;32m    412\u001b[0m     context\u001b[39m.\u001b[39mload_default_certs()\n\u001b[1;32m--> 414\u001b[0m \u001b[39mself\u001b[39m\u001b[39m.\u001b[39msock \u001b[39m=\u001b[39m ssl_wrap_socket(\n\u001b[0;32m    415\u001b[0m     sock\u001b[39m=\u001b[39;49mconn,\n\u001b[0;32m    416\u001b[0m     keyfile\u001b[39m=\u001b[39;49m\u001b[39mself\u001b[39;49m\u001b[39m.\u001b[39;49mkey_file,\n\u001b[0;32m    417\u001b[0m     certfile\u001b[39m=\u001b[39;49m\u001b[39mself\u001b[39;49m\u001b[39m.\u001b[39;49mcert_file,\n\u001b[0;32m    418\u001b[0m     key_password\u001b[39m=\u001b[39;49m\u001b[39mself\u001b[39;49m\u001b[39m.\u001b[39;49mkey_password,\n\u001b[0;32m    419\u001b[0m     ca_certs\u001b[39m=\u001b[39;49m\u001b[39mself\u001b[39;49m\u001b[39m.\u001b[39;49mca_certs,\n\u001b[0;32m    420\u001b[0m     ca_cert_dir\u001b[39m=\u001b[39;49m\u001b[39mself\u001b[39;49m\u001b[39m.\u001b[39;49mca_cert_dir,\n\u001b[0;32m    421\u001b[0m     ca_cert_data\u001b[39m=\u001b[39;49m\u001b[39mself\u001b[39;49m\u001b[39m.\u001b[39;49mca_cert_data,\n\u001b[0;32m    422\u001b[0m     server_hostname\u001b[39m=\u001b[39;49mserver_hostname,\n\u001b[0;32m    423\u001b[0m     ssl_context\u001b[39m=\u001b[39;49mcontext,\n\u001b[0;32m    424\u001b[0m     tls_in_tls\u001b[39m=\u001b[39;49mtls_in_tls,\n\u001b[0;32m    425\u001b[0m )\n\u001b[0;32m    427\u001b[0m \u001b[39m# If we're using all defaults and the connection\u001b[39;00m\n\u001b[0;32m    428\u001b[0m \u001b[39m# is TLSv1 or TLSv1.1 we throw a DeprecationWarning\u001b[39;00m\n\u001b[0;32m    429\u001b[0m \u001b[39m# for the host.\u001b[39;00m\n",
      "File \u001b[1;32mc:\\Program Files\\Python310\\lib\\site-packages\\urllib3\\util\\ssl_.py:449\u001b[0m, in \u001b[0;36mssl_wrap_socket\u001b[1;34m(sock, keyfile, certfile, cert_reqs, ca_certs, server_hostname, ssl_version, ciphers, ssl_context, ca_cert_dir, key_password, ca_cert_data, tls_in_tls)\u001b[0m\n\u001b[0;32m    448\u001b[0m \u001b[39mif\u001b[39;00m send_sni:\n\u001b[1;32m--> 449\u001b[0m     ssl_sock \u001b[39m=\u001b[39m _ssl_wrap_socket_impl(\n\u001b[0;32m    450\u001b[0m         sock, context, tls_in_tls, server_hostname\u001b[39m=\u001b[39;49mserver_hostname\n\u001b[0;32m    451\u001b[0m     )\n\u001b[0;32m    452\u001b[0m \u001b[39melse\u001b[39;00m:\n",
      "File \u001b[1;32mc:\\Program Files\\Python310\\lib\\site-packages\\urllib3\\util\\ssl_.py:493\u001b[0m, in \u001b[0;36m_ssl_wrap_socket_impl\u001b[1;34m(sock, ssl_context, tls_in_tls, server_hostname)\u001b[0m\n\u001b[0;32m    492\u001b[0m \u001b[39mif\u001b[39;00m server_hostname:\n\u001b[1;32m--> 493\u001b[0m     \u001b[39mreturn\u001b[39;00m ssl_context\u001b[39m.\u001b[39;49mwrap_socket(sock, server_hostname\u001b[39m=\u001b[39;49mserver_hostname)\n\u001b[0;32m    494\u001b[0m \u001b[39melse\u001b[39;00m:\n",
      "File \u001b[1;32mc:\\Program Files\\Python310\\lib\\ssl.py:513\u001b[0m, in \u001b[0;36mSSLContext.wrap_socket\u001b[1;34m(self, sock, server_side, do_handshake_on_connect, suppress_ragged_eofs, server_hostname, session)\u001b[0m\n\u001b[0;32m    507\u001b[0m \u001b[39mdef\u001b[39;00m \u001b[39mwrap_socket\u001b[39m(\u001b[39mself\u001b[39m, sock, server_side\u001b[39m=\u001b[39m\u001b[39mFalse\u001b[39;00m,\n\u001b[0;32m    508\u001b[0m                 do_handshake_on_connect\u001b[39m=\u001b[39m\u001b[39mTrue\u001b[39;00m,\n\u001b[0;32m    509\u001b[0m                 suppress_ragged_eofs\u001b[39m=\u001b[39m\u001b[39mTrue\u001b[39;00m,\n\u001b[0;32m    510\u001b[0m                 server_hostname\u001b[39m=\u001b[39m\u001b[39mNone\u001b[39;00m, session\u001b[39m=\u001b[39m\u001b[39mNone\u001b[39;00m):\n\u001b[0;32m    511\u001b[0m     \u001b[39m# SSLSocket class handles server_hostname encoding before it calls\u001b[39;00m\n\u001b[0;32m    512\u001b[0m     \u001b[39m# ctx._wrap_socket()\u001b[39;00m\n\u001b[1;32m--> 513\u001b[0m     \u001b[39mreturn\u001b[39;00m \u001b[39mself\u001b[39;49m\u001b[39m.\u001b[39;49msslsocket_class\u001b[39m.\u001b[39;49m_create(\n\u001b[0;32m    514\u001b[0m         sock\u001b[39m=\u001b[39;49msock,\n\u001b[0;32m    515\u001b[0m         server_side\u001b[39m=\u001b[39;49mserver_side,\n\u001b[0;32m    516\u001b[0m         do_handshake_on_connect\u001b[39m=\u001b[39;49mdo_handshake_on_connect,\n\u001b[0;32m    517\u001b[0m         suppress_ragged_eofs\u001b[39m=\u001b[39;49msuppress_ragged_eofs,\n\u001b[0;32m    518\u001b[0m         server_hostname\u001b[39m=\u001b[39;49mserver_hostname,\n\u001b[0;32m    519\u001b[0m         context\u001b[39m=\u001b[39;49m\u001b[39mself\u001b[39;49m,\n\u001b[0;32m    520\u001b[0m         session\u001b[39m=\u001b[39;49msession\n\u001b[0;32m    521\u001b[0m     )\n",
      "File \u001b[1;32mc:\\Program Files\\Python310\\lib\\ssl.py:1071\u001b[0m, in \u001b[0;36mSSLSocket._create\u001b[1;34m(cls, sock, server_side, do_handshake_on_connect, suppress_ragged_eofs, server_hostname, context, session)\u001b[0m\n\u001b[0;32m   1070\u001b[0m             \u001b[39mraise\u001b[39;00m \u001b[39mValueError\u001b[39;00m(\u001b[39m\"\u001b[39m\u001b[39mdo_handshake_on_connect should not be specified for non-blocking sockets\u001b[39m\u001b[39m\"\u001b[39m)\n\u001b[1;32m-> 1071\u001b[0m         \u001b[39mself\u001b[39;49m\u001b[39m.\u001b[39;49mdo_handshake()\n\u001b[0;32m   1072\u001b[0m \u001b[39mexcept\u001b[39;00m (\u001b[39mOSError\u001b[39;00m, \u001b[39mValueError\u001b[39;00m):\n",
      "File \u001b[1;32mc:\\Program Files\\Python310\\lib\\ssl.py:1342\u001b[0m, in \u001b[0;36mSSLSocket.do_handshake\u001b[1;34m(self, block)\u001b[0m\n\u001b[0;32m   1341\u001b[0m         \u001b[39mself\u001b[39m\u001b[39m.\u001b[39msettimeout(\u001b[39mNone\u001b[39;00m)\n\u001b[1;32m-> 1342\u001b[0m     \u001b[39mself\u001b[39;49m\u001b[39m.\u001b[39;49m_sslobj\u001b[39m.\u001b[39;49mdo_handshake()\n\u001b[0;32m   1343\u001b[0m \u001b[39mfinally\u001b[39;00m:\n",
      "\u001b[1;31mSSLEOFError\u001b[0m: EOF occurred in violation of protocol (_ssl.c:997)",
      "\nDuring handling of the above exception, another exception occurred:\n",
      "\u001b[1;31mMaxRetryError\u001b[0m                             Traceback (most recent call last)",
      "File \u001b[1;32mc:\\Program Files\\Python310\\lib\\site-packages\\requests\\adapters.py:489\u001b[0m, in \u001b[0;36mHTTPAdapter.send\u001b[1;34m(self, request, stream, timeout, verify, cert, proxies)\u001b[0m\n\u001b[0;32m    488\u001b[0m \u001b[39mif\u001b[39;00m \u001b[39mnot\u001b[39;00m chunked:\n\u001b[1;32m--> 489\u001b[0m     resp \u001b[39m=\u001b[39m conn\u001b[39m.\u001b[39;49murlopen(\n\u001b[0;32m    490\u001b[0m         method\u001b[39m=\u001b[39;49mrequest\u001b[39m.\u001b[39;49mmethod,\n\u001b[0;32m    491\u001b[0m         url\u001b[39m=\u001b[39;49murl,\n\u001b[0;32m    492\u001b[0m         body\u001b[39m=\u001b[39;49mrequest\u001b[39m.\u001b[39;49mbody,\n\u001b[0;32m    493\u001b[0m         headers\u001b[39m=\u001b[39;49mrequest\u001b[39m.\u001b[39;49mheaders,\n\u001b[0;32m    494\u001b[0m         redirect\u001b[39m=\u001b[39;49m\u001b[39mFalse\u001b[39;49;00m,\n\u001b[0;32m    495\u001b[0m         assert_same_host\u001b[39m=\u001b[39;49m\u001b[39mFalse\u001b[39;49;00m,\n\u001b[0;32m    496\u001b[0m         preload_content\u001b[39m=\u001b[39;49m\u001b[39mFalse\u001b[39;49;00m,\n\u001b[0;32m    497\u001b[0m         decode_content\u001b[39m=\u001b[39;49m\u001b[39mFalse\u001b[39;49;00m,\n\u001b[0;32m    498\u001b[0m         retries\u001b[39m=\u001b[39;49m\u001b[39mself\u001b[39;49m\u001b[39m.\u001b[39;49mmax_retries,\n\u001b[0;32m    499\u001b[0m         timeout\u001b[39m=\u001b[39;49mtimeout,\n\u001b[0;32m    500\u001b[0m     )\n\u001b[0;32m    502\u001b[0m \u001b[39m# Send the request.\u001b[39;00m\n\u001b[0;32m    503\u001b[0m \u001b[39melse\u001b[39;00m:\n",
      "File \u001b[1;32mc:\\Program Files\\Python310\\lib\\site-packages\\urllib3\\connectionpool.py:787\u001b[0m, in \u001b[0;36mHTTPConnectionPool.urlopen\u001b[1;34m(self, method, url, body, headers, retries, redirect, assert_same_host, timeout, pool_timeout, release_conn, chunked, body_pos, **response_kw)\u001b[0m\n\u001b[0;32m    785\u001b[0m     e \u001b[39m=\u001b[39m ProtocolError(\u001b[39m\"\u001b[39m\u001b[39mConnection aborted.\u001b[39m\u001b[39m\"\u001b[39m, e)\n\u001b[1;32m--> 787\u001b[0m retries \u001b[39m=\u001b[39m retries\u001b[39m.\u001b[39;49mincrement(\n\u001b[0;32m    788\u001b[0m     method, url, error\u001b[39m=\u001b[39;49me, _pool\u001b[39m=\u001b[39;49m\u001b[39mself\u001b[39;49m, _stacktrace\u001b[39m=\u001b[39;49msys\u001b[39m.\u001b[39;49mexc_info()[\u001b[39m2\u001b[39;49m]\n\u001b[0;32m    789\u001b[0m )\n\u001b[0;32m    790\u001b[0m retries\u001b[39m.\u001b[39msleep()\n",
      "File \u001b[1;32mc:\\Program Files\\Python310\\lib\\site-packages\\urllib3\\util\\retry.py:592\u001b[0m, in \u001b[0;36mRetry.increment\u001b[1;34m(self, method, url, response, error, _pool, _stacktrace)\u001b[0m\n\u001b[0;32m    591\u001b[0m \u001b[39mif\u001b[39;00m new_retry\u001b[39m.\u001b[39mis_exhausted():\n\u001b[1;32m--> 592\u001b[0m     \u001b[39mraise\u001b[39;00m MaxRetryError(_pool, url, error \u001b[39mor\u001b[39;00m ResponseError(cause))\n\u001b[0;32m    594\u001b[0m log\u001b[39m.\u001b[39mdebug(\u001b[39m\"\u001b[39m\u001b[39mIncremented Retry for (url=\u001b[39m\u001b[39m'\u001b[39m\u001b[39m%s\u001b[39;00m\u001b[39m'\u001b[39m\u001b[39m): \u001b[39m\u001b[39m%r\u001b[39;00m\u001b[39m\"\u001b[39m, url, new_retry)\n",
      "\u001b[1;31mMaxRetryError\u001b[0m: HTTPSConnectionPool(host='www.google.com', port=443): Max retries exceeded with url: /search?q=meme&sca_esv=579719297&rlz=1C1GCEA_enID1040ID1040&sxsrf=AM9HkKloOBgtTADUCBy2lLf5qVvyvYyKOg%3A1699249403661&ei=-3xIZYyEKPCN4-EPvpuJoAo&ved=0ahUKEwjM7duo1a6CAxXwxjgGHb5NAqQQ4dUDCBA&uact=5&oq=meme&gs_lp=Egxnd3Mtd2l6LXNlcnAiBG1lbWUyBBAjGCcyCxAAGIoFGLEDGJECMg0QABiKBRixAxiDARhDMgsQABiABBixAxiDATIIEAAYgAQYsQMyCBAAGIAEGLEDMggQLhiABBixAzIFEAAYgAQyCBAAGIAEGLEDMgUQABiABEiDE1DRAljrCHACeAGQAQCYAYsBoAH8A6oBAzAuNLgBA8gBAPgBAagCFMICChAAGEcY1gQYsAPCAgoQABiKBRiwAxhDwgIHECMY6gIYJ8ICFhAAGAMYjwEY5QIY6gIYtAIYjAPYAQHCAhYQLhgDGI8BGOUCGOoCGLQCGIwD2AEBwgIOEAAYigUYsQMYgwEYkQLCAggQLhiKBRiRAsICCxAAGIoFGLEDGIMBwgILEC4YgAQYsQMYgwHCAgUQLhiABMICBxAjGIoFGCfCAggQABiKBRiRAuIDBBgAIEGIBgGQBgq6BgYIARABGAs&sclient=gws-wiz-serp (Caused by SSLError(SSLEOFError(8, 'EOF occurred in violation of protocol (_ssl.c:997)')))",
      "\nDuring handling of the above exception, another exception occurred:\n",
      "\u001b[1;31mSSLError\u001b[0m                                  Traceback (most recent call last)",
      "Cell \u001b[1;32mIn[23], line 4\u001b[0m\n\u001b[0;32m      1\u001b[0m \u001b[39mimport\u001b[39;00m \u001b[39mcfscrape\u001b[39;00m\n\u001b[0;32m      3\u001b[0m scraper \u001b[39m=\u001b[39m cfscrape\u001b[39m.\u001b[39mcreate_scraper() \n\u001b[1;32m----> 4\u001b[0m scraped_data \u001b[39m=\u001b[39m scraper\u001b[39m.\u001b[39;49mget(\u001b[39m'\u001b[39;49m\u001b[39mhttps://www.google.com/search?q=meme&sca_esv=579719297&rlz=1C1GCEA_enID1040ID1040&sxsrf=AM9HkKloOBgtTADUCBy2lLf5qVvyvYyKOg\u001b[39;49m\u001b[39m%\u001b[39;49m\u001b[39m3A1699249403661&ei=-3xIZYyEKPCN4-EPvpuJoAo&ved=0ahUKEwjM7duo1a6CAxXwxjgGHb5NAqQQ4dUDCBA&uact=5&oq=meme&gs_lp=Egxnd3Mtd2l6LXNlcnAiBG1lbWUyBBAjGCcyCxAAGIoFGLEDGJECMg0QABiKBRixAxiDARhDMgsQABiABBixAxiDATIIEAAYgAQYsQMyCBAAGIAEGLEDMggQLhiABBixAzIFEAAYgAQyCBAAGIAEGLEDMgUQABiABEiDE1DRAljrCHACeAGQAQCYAYsBoAH8A6oBAzAuNLgBA8gBAPgBAagCFMICChAAGEcY1gQYsAPCAgoQABiKBRiwAxhDwgIHECMY6gIYJ8ICFhAAGAMYjwEY5QIY6gIYtAIYjAPYAQHCAhYQLhgDGI8BGOUCGOoCGLQCGIwD2AEBwgIOEAAYigUYsQMYgwEYkQLCAggQLhiKBRiRAsICCxAAGIoFGLEDGIMBwgILEC4YgAQYsQMYgwHCAgUQLhiABMICBxAjGIoFGCfCAggQABiKBRiRAuIDBBgAIEGIBgGQBgq6BgYIARABGAs&sclient=gws-wiz-serp\u001b[39;49m\u001b[39m'\u001b[39;49m) \n\u001b[0;32m      6\u001b[0m soup \u001b[39m=\u001b[39m BeautifulSoup(scraped_data\u001b[39m.\u001b[39mtext, \u001b[39m'\u001b[39m\u001b[39mhtml.parser\u001b[39m\u001b[39m'\u001b[39m)\n\u001b[0;32m      7\u001b[0m text \u001b[39m=\u001b[39m soup\u001b[39m.\u001b[39mget_text()\n",
      "File \u001b[1;32mc:\\Program Files\\Python310\\lib\\site-packages\\requests\\sessions.py:600\u001b[0m, in \u001b[0;36mSession.get\u001b[1;34m(self, url, **kwargs)\u001b[0m\n\u001b[0;32m    592\u001b[0m \u001b[39m\u001b[39m\u001b[39mr\u001b[39m\u001b[39m\"\"\"Sends a GET request. Returns :class:`Response` object.\u001b[39;00m\n\u001b[0;32m    593\u001b[0m \n\u001b[0;32m    594\u001b[0m \u001b[39m:param url: URL for the new :class:`Request` object.\u001b[39;00m\n\u001b[0;32m    595\u001b[0m \u001b[39m:param \\*\\*kwargs: Optional arguments that ``request`` takes.\u001b[39;00m\n\u001b[0;32m    596\u001b[0m \u001b[39m:rtype: requests.Response\u001b[39;00m\n\u001b[0;32m    597\u001b[0m \u001b[39m\"\"\"\u001b[39;00m\n\u001b[0;32m    599\u001b[0m kwargs\u001b[39m.\u001b[39msetdefault(\u001b[39m\"\u001b[39m\u001b[39mallow_redirects\u001b[39m\u001b[39m\"\u001b[39m, \u001b[39mTrue\u001b[39;00m)\n\u001b[1;32m--> 600\u001b[0m \u001b[39mreturn\u001b[39;00m \u001b[39mself\u001b[39m\u001b[39m.\u001b[39mrequest(\u001b[39m\"\u001b[39m\u001b[39mGET\u001b[39m\u001b[39m\"\u001b[39m, url, \u001b[39m*\u001b[39m\u001b[39m*\u001b[39mkwargs)\n",
      "File \u001b[1;32mc:\\Program Files\\Python310\\lib\\site-packages\\cfscrape\\__init__.py:121\u001b[0m, in \u001b[0;36mCloudflareScraper.request\u001b[1;34m(self, method, url, *args, **kwargs)\u001b[0m\n\u001b[0;32m    120\u001b[0m \u001b[39mdef\u001b[39;00m \u001b[39mrequest\u001b[39m(\u001b[39mself\u001b[39m, method, url, \u001b[39m*\u001b[39margs, \u001b[39m*\u001b[39m\u001b[39m*\u001b[39mkwargs):\n\u001b[1;32m--> 121\u001b[0m     resp \u001b[39m=\u001b[39m \u001b[39msuper\u001b[39m(CloudflareScraper, \u001b[39mself\u001b[39m)\u001b[39m.\u001b[39mrequest(method, url, \u001b[39m*\u001b[39margs, \u001b[39m*\u001b[39m\u001b[39m*\u001b[39mkwargs)\n\u001b[0;32m    123\u001b[0m     \u001b[39m# Check if Cloudflare captcha challenge is presented\u001b[39;00m\n\u001b[0;32m    124\u001b[0m     \u001b[39mif\u001b[39;00m \u001b[39mself\u001b[39m\u001b[39m.\u001b[39mis_cloudflare_captcha_challenge(resp):\n",
      "File \u001b[1;32mc:\\Program Files\\Python310\\lib\\site-packages\\requests\\sessions.py:587\u001b[0m, in \u001b[0;36mSession.request\u001b[1;34m(self, method, url, params, data, headers, cookies, files, auth, timeout, allow_redirects, proxies, hooks, stream, verify, cert, json)\u001b[0m\n\u001b[0;32m    582\u001b[0m send_kwargs \u001b[39m=\u001b[39m {\n\u001b[0;32m    583\u001b[0m     \u001b[39m\"\u001b[39m\u001b[39mtimeout\u001b[39m\u001b[39m\"\u001b[39m: timeout,\n\u001b[0;32m    584\u001b[0m     \u001b[39m\"\u001b[39m\u001b[39mallow_redirects\u001b[39m\u001b[39m\"\u001b[39m: allow_redirects,\n\u001b[0;32m    585\u001b[0m }\n\u001b[0;32m    586\u001b[0m send_kwargs\u001b[39m.\u001b[39mupdate(settings)\n\u001b[1;32m--> 587\u001b[0m resp \u001b[39m=\u001b[39m \u001b[39mself\u001b[39m\u001b[39m.\u001b[39msend(prep, \u001b[39m*\u001b[39m\u001b[39m*\u001b[39msend_kwargs)\n\u001b[0;32m    589\u001b[0m \u001b[39mreturn\u001b[39;00m resp\n",
      "File \u001b[1;32mc:\\Program Files\\Python310\\lib\\site-packages\\requests\\sessions.py:701\u001b[0m, in \u001b[0;36mSession.send\u001b[1;34m(self, request, **kwargs)\u001b[0m\n\u001b[0;32m    698\u001b[0m start \u001b[39m=\u001b[39m preferred_clock()\n\u001b[0;32m    700\u001b[0m \u001b[39m# Send the request\u001b[39;00m\n\u001b[1;32m--> 701\u001b[0m r \u001b[39m=\u001b[39m adapter\u001b[39m.\u001b[39msend(request, \u001b[39m*\u001b[39m\u001b[39m*\u001b[39mkwargs)\n\u001b[0;32m    703\u001b[0m \u001b[39m# Total elapsed time of the request (approximately)\u001b[39;00m\n\u001b[0;32m    704\u001b[0m elapsed \u001b[39m=\u001b[39m preferred_clock() \u001b[39m-\u001b[39m start\n",
      "File \u001b[1;32mc:\\Program Files\\Python310\\lib\\site-packages\\requests\\adapters.py:563\u001b[0m, in \u001b[0;36mHTTPAdapter.send\u001b[1;34m(self, request, stream, timeout, verify, cert, proxies)\u001b[0m\n\u001b[0;32m    559\u001b[0m         \u001b[39mraise\u001b[39;00m ProxyError(e, request\u001b[39m=\u001b[39mrequest)\n\u001b[0;32m    561\u001b[0m     \u001b[39mif\u001b[39;00m \u001b[39misinstance\u001b[39m(e\u001b[39m.\u001b[39mreason, _SSLError):\n\u001b[0;32m    562\u001b[0m         \u001b[39m# This branch is for urllib3 v1.22 and later.\u001b[39;00m\n\u001b[1;32m--> 563\u001b[0m         \u001b[39mraise\u001b[39;00m SSLError(e, request\u001b[39m=\u001b[39mrequest)\n\u001b[0;32m    565\u001b[0m     \u001b[39mraise\u001b[39;00m \u001b[39mConnectionError\u001b[39;00m(e, request\u001b[39m=\u001b[39mrequest)\n\u001b[0;32m    567\u001b[0m \u001b[39mexcept\u001b[39;00m ClosedPoolError \u001b[39mas\u001b[39;00m e:\n",
      "\u001b[1;31mSSLError\u001b[0m: HTTPSConnectionPool(host='www.google.com', port=443): Max retries exceeded with url: /search?q=meme&sca_esv=579719297&rlz=1C1GCEA_enID1040ID1040&sxsrf=AM9HkKloOBgtTADUCBy2lLf5qVvyvYyKOg%3A1699249403661&ei=-3xIZYyEKPCN4-EPvpuJoAo&ved=0ahUKEwjM7duo1a6CAxXwxjgGHb5NAqQQ4dUDCBA&uact=5&oq=meme&gs_lp=Egxnd3Mtd2l6LXNlcnAiBG1lbWUyBBAjGCcyCxAAGIoFGLEDGJECMg0QABiKBRixAxiDARhDMgsQABiABBixAxiDATIIEAAYgAQYsQMyCBAAGIAEGLEDMggQLhiABBixAzIFEAAYgAQyCBAAGIAEGLEDMgUQABiABEiDE1DRAljrCHACeAGQAQCYAYsBoAH8A6oBAzAuNLgBA8gBAPgBAagCFMICChAAGEcY1gQYsAPCAgoQABiKBRiwAxhDwgIHECMY6gIYJ8ICFhAAGAMYjwEY5QIY6gIYtAIYjAPYAQHCAhYQLhgDGI8BGOUCGOoCGLQCGIwD2AEBwgIOEAAYigUYsQMYgwEYkQLCAggQLhiKBRiRAsICCxAAGIoFGLEDGIMBwgILEC4YgAQYsQMYgwHCAgUQLhiABMICBxAjGIoFGCfCAggQABiKBRiRAuIDBBgAIEGIBgGQBgq6BgYIARABGAs&sclient=gws-wiz-serp (Caused by SSLError(SSLEOFError(8, 'EOF occurred in violation of protocol (_ssl.c:997)')))"
     ]
    }
   ],
   "source": [
    "import cfscrape\n",
    "\n",
    "scraper = cfscrape.create_scraper() \n",
    "scraped_data = scraper.get('https://www.google.com/search?q=meme&sca_esv=579719297&rlz=1C1GCEA_enID1040ID1040&sxsrf=AM9HkKloOBgtTADUCBy2lLf5qVvyvYyKOg%3A1699249403661&ei=-3xIZYyEKPCN4-EPvpuJoAo&ved=0ahUKEwjM7duo1a6CAxXwxjgGHb5NAqQQ4dUDCBA&uact=5&oq=meme&gs_lp=Egxnd3Mtd2l6LXNlcnAiBG1lbWUyBBAjGCcyCxAAGIoFGLEDGJECMg0QABiKBRixAxiDARhDMgsQABiABBixAxiDATIIEAAYgAQYsQMyCBAAGIAEGLEDMggQLhiABBixAzIFEAAYgAQyCBAAGIAEGLEDMgUQABiABEiDE1DRAljrCHACeAGQAQCYAYsBoAH8A6oBAzAuNLgBA8gBAPgBAagCFMICChAAGEcY1gQYsAPCAgoQABiKBRiwAxhDwgIHECMY6gIYJ8ICFhAAGAMYjwEY5QIY6gIYtAIYjAPYAQHCAhYQLhgDGI8BGOUCGOoCGLQCGIwD2AEBwgIOEAAYigUYsQMYgwEYkQLCAggQLhiKBRiRAsICCxAAGIoFGLEDGIMBwgILEC4YgAQYsQMYgwHCAgUQLhiABMICBxAjGIoFGCfCAggQABiKBRiRAuIDBBgAIEGIBgGQBgq6BgYIARABGAs&sclient=gws-wiz-serp') \n",
    "\n",
    "soup = BeautifulSoup(scraped_data.text, 'html.parser')\n",
    "text = soup.get_text()\n",
    "\n",
    "# clean dikit\n",
    "kalimat = add_spasi(text)\n",
    "kalimat = remove_duplicate_words(kalimat.lower())\n",
    "\n",
    "print(kalimat)"
   ]
  },
  {
   "attachments": {},
   "cell_type": "markdown",
   "metadata": {},
   "source": [
    "<h3><b>Prepro"
   ]
  },
  {
   "cell_type": "code",
   "execution_count": 16,
   "metadata": {},
   "outputs": [],
   "source": [
    "with open('Prepo/kbba.txt', 'r', encoding='utf-8') as file:\n",
    "    lines = file.readlines()\n",
    "\n",
    "data = [line.strip().split('\\t') for line in lines]\n",
    "\n",
    "data_singkatan = pd.DataFrame(data, columns=['Contraction', 'Meaning'])\n",
    "df_en = pd.read_csv(\"Prepo/contractions.csv\")\n",
    "\n",
    "# Menggabungkan DataFrames secara vertikal (menambahkan baris)\n",
    "df_singkatan = pd.concat([data_singkatan, df_en], ignore_index=True)\n",
    "\n",
    "# Ubah DataFrame menjadi kamus\n",
    "kontraksi_dict = dict(zip(df_singkatan['Contraction'], data_singkatan['Meaning']))"
   ]
  },
  {
   "cell_type": "code",
   "execution_count": 17,
   "metadata": {},
   "outputs": [],
   "source": [
    "import re\n",
    "\n",
    "# Fungsi untuk menghapus kata-kata dengan satu huruf\n",
    "def remove_tag(text):\n",
    "    words = text.split()\n",
    "    filtered_words = [word for word in words if not word.startswith('#')]  # Menghapus kata-kata yang dimulai dengan '#'\n",
    "    filtered_words = [word for word in filtered_words if not word.startswith('http')]  # Menghapus kata-kata yang dimulai dengan '#'\n",
    "    filtered_words = [word for word in filtered_words if not word.startswith('https')]  # Menghapus kata-kata yang dimulai dengan '#'\n",
    "    return ' '.join(filtered_words)\n",
    "\n",
    "# Fungsi untuk menghapus tanda baca\n",
    "def remove_punctuation(text):\n",
    "    hasil = re.sub(r'[^\\w\\s]', '', text)\n",
    "    return hasil\n",
    "\n",
    "# Fungsi untuk mengatasi kontraksi dalam bahasa Indonesia\n",
    "def expand_contractions_id(text):\n",
    "    kontraksi_dict\n",
    "    \n",
    "    words = text.split()\n",
    "    expanded_text = [kontraksi_dict[word] if word in kontraksi_dict else word for word in words]\n",
    "    return ' '.join(expanded_text)\n",
    "\n",
    "def ubah_angka(text):\n",
    "    # Menggunakan regular expression untuk mengganti karakter alay\n",
    "    teks_benar = re.sub(r'3', 'e', text)\n",
    "    teks_benar = re.sub(r'4', 'a', teks_benar)\n",
    "    teks_benar = re.sub(r'1', 'i', teks_benar)\n",
    "    teks_benar = re.sub(r'0', 'o', teks_benar)\n",
    "\n",
    "    # Menggunakan regular expression untuk memisahkan angka yang terikat dengan kata \"mekinya\"\n",
    "    # angka = re.search(r'(\\d+)$', teks_benar).group(1)\n",
    "    # teks_benar = re.sub(r'\\d+$', '', teks_benar)\n",
    "\n",
    "    # # Menggabungkan kembali teks dengan angka\n",
    "    # hasil_akhir = teks_benar + angka\n",
    "    return teks_benar\n",
    "\n",
    "def remove_number(text) :\n",
    "    hasil = re.sub(r'\\d', '', text)\n",
    "    return hasil\n",
    "\n",
    "# Fungsi untuk menghapus tautan dari teks\n",
    "def remove_links(text):\n",
    "    # Menggunakan ekspresi reguler untuk mencari dan menghapus tautan\n",
    "    return re.sub(r'http\\S+|www\\S+|https\\S+', '', text)\n",
    "\n",
    "# Fungsi untuk menghapus kata-kata dengan satu huruf\n",
    "def remove_single_letter_words(text):\n",
    "    text = re.sub(r'\\b\\w\\b', '', text)\n",
    "    \n",
    "    hapus = ['rj','lc','en','ar','mc','vt','rob','ny','dc','az','va']\n",
    "    words = text.split()\n",
    "\n",
    "    # Memfilter kata-kata yang tidak ada dalam array yang akan dihapus\n",
    "    kata_kata_tanpa_kata_yang_dihapus = [kata for kata in words if kata not in hapus]\n",
    "\n",
    "    # Menggabungkan kata-kata yang tersisa menjadi kalimat baru\n",
    "    kalimat_tanpa_kata_yang_dihapus = ' '.join(kata_kata_tanpa_kata_yang_dihapus)\n",
    "    return kalimat_tanpa_kata_yang_dihapus\n",
    "\n",
    "# Preprocessing kolom 'text'\n",
    "kalimat = remove_tag(kalimat)\n",
    "kalimat = remove_punctuation(kalimat)\n",
    "kalimat = expand_contractions_id(kalimat)\n",
    "kalimat = ubah_angka(kalimat)\n",
    "kalimat = remove_number(kalimat)\n",
    "kalimat = remove_links(kalimat)\n",
    "kalimat = remove_single_letter_words(kalimat)\n",
    "\n",
    "# Menampilkan DataFrame setelah preprocessing\n",
    "# df.head(2)"
   ]
  },
  {
   "cell_type": "code",
   "execution_count": 18,
   "metadata": {},
   "outputs": [],
   "source": [
    "from deep_translator import GoogleTranslator\n",
    "\n",
    "def translate(text):\n",
    "    # to_translate = 'I want to translate this text'\n",
    "    translated = GoogleTranslator(source='auto', target='en').translate(text)\n",
    "    return translated\n",
    "\n",
    "# Preprocessing kolom 'text'\n",
    "kalimat = translate(kalimat[:500])"
   ]
  },
  {
   "cell_type": "code",
   "execution_count": 19,
   "metadata": {},
   "outputs": [
    {
     "name": "stderr",
     "output_type": "stream",
     "text": [
      "[nltk_data] Downloading package stopwords to\n",
      "[nltk_data]     C:\\Users\\Administrator\\AppData\\Roaming\\nltk_data...\n",
      "[nltk_data]   Package stopwords is already up-to-date!\n"
     ]
    }
   ],
   "source": [
    "import nltk\n",
    "from nltk.corpus import stopwords\n",
    "from Sastrawi.StopWordRemover.StopWordRemoverFactory import StopWordRemoverFactory\n",
    "from Sastrawi.StopWordRemover.StopWordRemover import StopWordRemover\n",
    "\n",
    "# Download stopwords (jika belum diunduh)\n",
    "nltk.download('stopwords')\n",
    "# Ambil daftar stopwords dalam bahasa Inggris\n",
    "stop_words = set(stopwords.words('english'))\n",
    "\n",
    "# Inisialisasi stopword remover dari Sastrawi\n",
    "factory = StopWordRemoverFactory()\n",
    "stopword_remover = factory.create_stop_word_remover()\n",
    "\n",
    "stop_words = list(stop_words)\n",
    "tambahan = ['entertainment','recreation','joined','june','following','iek','followers','create','agree','terms','service','sep','media','privacy','policy','including','use','relevant','google','apple','bookmarks','signing','account','follow','instagram','happening','people','know','post','conversation','twitter','dont','whats','first','sign','news','maps','share','feedback','indonesia','ay','setting','settings','eop','iim','iomin','ioop','op','welcome','paling','skip','content','menu','belum','ai','month','year','day','lanjut','access','ads','ok','must','ee','ao','login','oa','data','connection','ia','cookies','us','log','kami','dlvr','id','co','p','ly','youtu','bal','nder','nak','http','rm','whq','com','st','pth','html','bz','ss','cc','tt','oi','ie','io','ii','oe','ik','cookie','eo','ak','ek','ioo','vr','ea','oo','ei','usc']\n",
    "stop_words.extend(tambahan)\n",
    "\n",
    "# Menghapus stopwords dari kolom 'text'\n",
    "kalimat = ' '.join([word for word in kalimat.split() if word.lower() not in stop_words])"
   ]
  },
  {
   "cell_type": "code",
   "execution_count": 20,
   "metadata": {},
   "outputs": [
    {
     "data": {
      "text/plain": [
       "'dadang jsn front page site home study materials elementary middle school classes, complete semester natural sciences, write comment, education friends happy learning opportunity time, natural sciences, SDMI accessed directly online used e-learning school home field study iv odd full chapter human skeleton, maintenance function, human function, influence body posture growth'"
      ]
     },
     "execution_count": 20,
     "metadata": {},
     "output_type": "execute_result"
    }
   ],
   "source": [
    "kalimat"
   ]
  },
  {
   "attachments": {},
   "cell_type": "markdown",
   "metadata": {},
   "source": [
    "# <h3><b>CFSCRAPE"
   ]
  },
  {
   "cell_type": "code",
   "execution_count": 1,
   "metadata": {},
   "outputs": [],
   "source": [
    "import re\n",
    "\n",
    "# Fungsi untuk menghapus pengulangan kata\n",
    "def remove_duplicate_words(text):\n",
    "    words = text.split()\n",
    "    unique_words = []\n",
    "    for word in words:\n",
    "        if word not in unique_words:\n",
    "            unique_words.append(word)\n",
    "    return ' '.join(unique_words)\n",
    "\n",
    "def add_spasi(text):\n",
    "    hasil = re.sub(r'(?<=[a-z])([A-Z])', r' \\1', text)\n",
    "    return hasil"
   ]
  },
  {
   "cell_type": "code",
   "execution_count": 15,
   "metadata": {},
   "outputs": [
    {
     "name": "stdout",
     "output_type": "stream",
     "text": [
      "gamblingsites.org please enable js and disable any ad blocker\n"
     ]
    }
   ],
   "source": [
    "import cfscrape \n",
    "from bs4 import BeautifulSoup\n",
    "\n",
    "scraper = cfscrape.create_scraper() \n",
    "scraped_data = scraper.get(\"https://www.gamblingsites.org/\") \n",
    "\n",
    "soup = BeautifulSoup(scraped_data.text, 'html.parser')\n",
    "text = soup.get_text()\n",
    "\n",
    "# print(text)\n",
    "# clean dikit\n",
    "kalimat = add_spasi(text)\n",
    "kalimat = remove_duplicate_words(kalimat.lower())\n",
    "\n",
    "print(kalimat)"
   ]
  },
  {
   "cell_type": "markdown",
   "metadata": {},
   "source": []
  }
 ],
 "metadata": {
  "kernelspec": {
   "display_name": "Python 3",
   "language": "python",
   "name": "python3"
  },
  "language_info": {
   "codemirror_mode": {
    "name": "ipython",
    "version": 3
   },
   "file_extension": ".py",
   "mimetype": "text/x-python",
   "name": "python",
   "nbconvert_exporter": "python",
   "pygments_lexer": "ipython3",
   "version": "3.10.9 (tags/v3.10.9:1dd9be6, Dec  6 2022, 20:01:21) [MSC v.1934 64 bit (AMD64)]"
  },
  "orig_nbformat": 4,
  "vscode": {
   "interpreter": {
    "hash": "26de051ba29f2982a8de78e945f0abaf191376122a1563185a90213a26c5da77"
   }
  }
 },
 "nbformat": 4,
 "nbformat_minor": 2
}
